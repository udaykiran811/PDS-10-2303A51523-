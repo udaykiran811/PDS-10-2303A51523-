{
  "nbformat": 4,
  "nbformat_minor": 0,
  "metadata": {
    "colab": {
      "provenance": [],
      "authorship_tag": "ABX9TyMInXersn59H+jXE9DkAWgp",
      "include_colab_link": true
    },
    "kernelspec": {
      "name": "python3",
      "display_name": "Python 3"
    },
    "language_info": {
      "name": "python"
    }
  },
  "cells": [
    {
      "cell_type": "markdown",
      "metadata": {
        "id": "view-in-github",
        "colab_type": "text"
      },
      "source": [
        "<a href=\"https://colab.research.google.com/github/udaykiran811/PDS-10-2303A51523-/blob/main/pds_lab_5.ipynb\" target=\"_parent\"><img src=\"https://colab.research.google.com/assets/colab-badge.svg\" alt=\"Open In Colab\"/></a>"
      ]
    },
    {
      "cell_type": "code",
      "execution_count": 1,
      "metadata": {
        "colab": {
          "base_uri": "https://localhost:8080/"
        },
        "id": "ksUjknIA4WIF",
        "outputId": "0d611dfb-59ab-4da0-8f29-65c5c94077a3"
      },
      "outputs": [
        {
          "output_type": "stream",
          "name": "stdout",
          "text": [
            "Products Data:\n",
            "    product_id product_name     category  price\n",
            "0         101       Laptop  Electronics  60000\n",
            "1         102        Mouse  Accessories    800\n",
            "2         103     Keyboard  Accessories   1500\n",
            "3         104      Monitor  Electronics  12000\n",
            "4         105   Headphones  Accessories   2000 \n",
            "\n",
            "Sales Data:\n",
            "    sale_id  product_id  quantity\n",
            "0        1         101         2\n",
            "1        2         102        10\n",
            "2        3         103         5\n",
            "3        4         101         1\n",
            "4        5         105         3\n",
            "5        6         104         4\n",
            "6        7         106         2 \n",
            "\n",
            "Inner Join:\n",
            "    sale_id  product_id  quantity product_name     category  price  revenue\n",
            "0        1         101         2       Laptop  Electronics  60000   120000\n",
            "1        2         102        10        Mouse  Accessories    800     8000\n",
            "2        3         103         5     Keyboard  Accessories   1500     7500\n",
            "3        4         101         1       Laptop  Electronics  60000    60000\n",
            "4        5         105         3   Headphones  Accessories   2000     6000\n",
            "5        6         104         4      Monitor  Electronics  12000    48000 \n",
            "\n",
            "Outer Join:\n",
            "    sale_id  product_id  quantity product_name     category    price\n",
            "0        1         101         2       Laptop  Electronics  60000.0\n",
            "1        4         101         1       Laptop  Electronics  60000.0\n",
            "2        2         102        10        Mouse  Accessories    800.0\n",
            "3        3         103         5     Keyboard  Accessories   1500.0\n",
            "4        6         104         4      Monitor  Electronics  12000.0\n",
            "5        5         105         3   Headphones  Accessories   2000.0\n",
            "6        7         106         2          NaN          NaN      NaN \n",
            "\n",
            "Total Revenue: 249500\n",
            "Average Product Price: 15260.0\n",
            "\n",
            "Product-wise Revenue:\n",
            "   product_name  revenue\n",
            "0   Headphones     6000\n",
            "1     Keyboard     7500\n",
            "2       Laptop   180000\n",
            "3      Monitor    48000\n",
            "4        Mouse     8000\n",
            "\n",
            "Category-wise Revenue:\n",
            "       category  revenue\n",
            "0  Accessories    21500\n",
            "1  Electronics   228000\n",
            "\n",
            "Best-Selling Category:\n",
            " category    Electronics\n",
            "revenue          228000\n",
            "Name: 1, dtype: object\n"
          ]
        }
      ],
      "source": [
        "import pandas as pd\n",
        "\n",
        "products = pd.DataFrame({\n",
        "    'product_id': [101, 102, 103, 104, 105],\n",
        "    'product_name': ['Laptop', 'Mouse', 'Keyboard', 'Monitor', 'Headphones'],\n",
        "    'category': ['Electronics', 'Accessories', 'Accessories', 'Electronics', 'Accessories'],\n",
        "    'price': [60000, 800, 1500, 12000, 2000]\n",
        "})\n",
        "\n",
        "sales = pd.DataFrame({\n",
        "    'sale_id': [1, 2, 3, 4, 5, 6, 7],\n",
        "    'product_id': [101, 102, 103, 101, 105, 104, 106],\n",
        "    'quantity': [2, 10, 5, 1, 3, 4, 2]\n",
        "})\n",
        "\n",
        "merged_inner = pd.merge(sales, products, on=\"product_id\", how=\"inner\")\n",
        "merged_outer = pd.merge(sales, products, on=\"product_id\", how=\"outer\")\n",
        "\n",
        "merged_inner['revenue'] = merged_inner['quantity'] * merged_inner['price']\n",
        "total_revenue = merged_inner['revenue'].sum()\n",
        "average_price = products['price'].mean()\n",
        "product_sales = merged_inner.groupby('product_name')['revenue'].sum().reset_index()\n",
        "category_sales = merged_inner.groupby('category')['revenue'].sum().reset_index()\n",
        "best_category = category_sales.loc[category_sales['revenue'].idxmax()]\n",
        "\n",
        "print(\"Products Data:\\n\", products, \"\\n\")\n",
        "print(\"Sales Data:\\n\", sales, \"\\n\")\n",
        "print(\"Inner Join:\\n\", merged_inner, \"\\n\")\n",
        "print(\"Outer Join:\\n\", merged_outer, \"\\n\")\n",
        "print(\"Total Revenue:\", total_revenue)\n",
        "print(\"Average Product Price:\", average_price)\n",
        "print(\"\\nProduct-wise Revenue:\\n\", product_sales)\n",
        "print(\"\\nCategory-wise Revenue:\\n\", category_sales)\n",
        "print(\"\\nBest-Selling Category:\\n\", best_category)"
      ]
    }
  ]
}
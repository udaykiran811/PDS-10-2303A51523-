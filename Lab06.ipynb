{
  "nbformat": 4,
  "nbformat_minor": 0,
  "metadata": {
    "colab": {
      "provenance": [],
      "include_colab_link": true
    },
    "kernelspec": {
      "name": "python3",
      "display_name": "Python 3"
    },
    "language_info": {
      "name": "python"
    }
  },
  "cells": [
    {
      "cell_type": "markdown",
      "metadata": {
        "id": "view-in-github",
        "colab_type": "text"
      },
      "source": [
        "<a href=\"https://colab.research.google.com/github/udaykiran811/PDS-10-2303A51523-/blob/main/Lab06.ipynb\" target=\"_parent\"><img src=\"https://colab.research.google.com/assets/colab-badge.svg\" alt=\"Open In Colab\"/></a>"
      ]
    },
    {
      "cell_type": "code",
      "execution_count": null,
      "metadata": {
        "colab": {
          "base_uri": "https://localhost:8080/"
        },
        "id": "yooJ2EDR_SDs",
        "outputId": "f589ea12-3648-4d9e-f294-4b3fac65cf3b"
      },
      "outputs": [
        {
          "output_type": "stream",
          "name": "stdout",
          "text": [
            "Before: 2\n",
            "After: 0\n",
            "   TransactionID Product  Amount\n",
            "0            101       A     500\n",
            "1            102       B     300\n",
            "2            103       C     200\n",
            "4            104       D     700\n",
            "5            105       E     400\n"
          ]
        }
      ],
      "source": [
        "import pandas as pd\n",
        "\n",
        "data = {\n",
        "    \"TransactionID\": [101, 102, 103, 101, 104, 105, 102],\n",
        "    \"Product\": [\"A\", \"B\", \"C\", \"A\", \"D\", \"E\", \"B\"],\n",
        "    \"Amount\": [500, 300, 200, 500, 700, 400, 300]\n",
        "}\n",
        "\n",
        "df = pd.DataFrame(data)\n",
        "print(\"Before:\", df.duplicated().sum())\n",
        "df_cleaned = df.drop_duplicates()\n",
        "print(\"After:\", df_cleaned.duplicated().sum())\n",
        "print(df_cleaned)\n"
      ]
    },
    {
      "cell_type": "code",
      "source": [
        "import pandas as pd\n",
        "\n",
        "data = {\n",
        "    \"EmployeeID\": [1, 2, 3],\n",
        "    \"Name\": [\"John\", \"Alice\", \"Bob\"],\n",
        "    \"Salary\": [\"50000\", \"60000\", \"55000\"],\n",
        "    \"Joining_Date\": [\"2022-01-15\", \"2021-06-10\", \"2023-03-05\"]\n",
        "}\n",
        "\n",
        "df = pd.DataFrame(data)\n",
        "df[\"Salary\"] = pd.to_numeric(df[\"Salary\"])\n",
        "df[\"Joining_Date\"] = pd.to_datetime(df[\"Joining_Date\"])\n",
        "print(df.dtypes)\n",
        "print(df)\n"
      ],
      "metadata": {
        "colab": {
          "base_uri": "https://localhost:8080/"
        },
        "id": "ACxJwO2B_XmE",
        "outputId": "c4a671b4-b696-44d2-f5a4-11f121739ee7"
      },
      "execution_count": null,
      "outputs": [
        {
          "output_type": "stream",
          "name": "stdout",
          "text": [
            "EmployeeID               int64\n",
            "Name                    object\n",
            "Salary                   int64\n",
            "Joining_Date    datetime64[ns]\n",
            "dtype: object\n",
            "   EmployeeID   Name  Salary Joining_Date\n",
            "0           1   John   50000   2022-01-15\n",
            "1           2  Alice   60000   2021-06-10\n",
            "2           3    Bob   55000   2023-03-05\n"
          ]
        }
      ]
    }
  ]
}
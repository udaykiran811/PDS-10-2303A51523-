{
  "nbformat": 4,
  "nbformat_minor": 0,
  "metadata": {
    "colab": {
      "provenance": [],
      "authorship_tag": "ABX9TyPZRSQcwDWQCbfqQGth8flC",
      "include_colab_link": true
    },
    "kernelspec": {
      "name": "python3",
      "display_name": "Python 3"
    },
    "language_info": {
      "name": "python"
    }
  },
  "cells": [
    {
      "cell_type": "markdown",
      "metadata": {
        "id": "view-in-github",
        "colab_type": "text"
      },
      "source": [
        "<a href=\"https://colab.research.google.com/github/udaykiran811/PDS-10-2303A51523-/blob/main/pds_lab_1.ipynb\" target=\"_parent\"><img src=\"https://colab.research.google.com/assets/colab-badge.svg\" alt=\"Open In Colab\"/></a>"
      ]
    },
    {
      "cell_type": "code",
      "execution_count": 3,
      "metadata": {
        "colab": {
          "base_uri": "https://localhost:8080/"
        },
        "id": "H4wyvIVaAE5J",
        "outputId": "268d6672-0284-46c7-8cd8-3df2f2cf1293"
      },
      "outputs": [
        {
          "output_type": "stream",
          "name": "stdout",
          "text": [
            "\n",
            "===== FACTORIAL CALCULATION FOR 0 =====\n",
            "Entering factorial_recursive(0)\n",
            "Base case reached: factorial(0) = 1\n",
            "Recursive Result: 1\n",
            "Tail Recursion Call: factorial_tail_recursive(0, 1)\n",
            "Tail Recursive Result: 1\n",
            "Iterative Result: 1\n",
            "\n",
            "===== FACTORIAL CALCULATION FOR 1 =====\n",
            "Entering factorial_recursive(1)\n",
            "Base case reached: factorial(1) = 1\n",
            "Recursive Result: 1\n",
            "Tail Recursion Call: factorial_tail_recursive(1, 1)\n",
            "Tail Recursive Result: 1\n",
            "Iterative Result: 1\n",
            "\n",
            "===== FACTORIAL CALCULATION FOR 5 =====\n",
            "Entering factorial_recursive(5)\n",
            "Entering factorial_recursive(4)\n",
            "Entering factorial_recursive(3)\n",
            "Entering factorial_recursive(2)\n",
            "Entering factorial_recursive(1)\n",
            "Base case reached: factorial(1) = 1\n",
            "Returning: 2 * factorial(1) = 2\n",
            "Returning: 3 * factorial(2) = 6\n",
            "Returning: 4 * factorial(3) = 24\n",
            "Returning: 5 * factorial(4) = 120\n",
            "Recursive Result: 120\n",
            "Tail Recursion Call: factorial_tail_recursive(5, 1)\n",
            "Tail Recursion Call: factorial_tail_recursive(4, 5)\n",
            "Tail Recursion Call: factorial_tail_recursive(3, 20)\n",
            "Tail Recursion Call: factorial_tail_recursive(2, 60)\n",
            "Tail Recursion Call: factorial_tail_recursive(1, 120)\n",
            "Tail Recursive Result: 120\n",
            "Iterating i=2, result=2\n",
            "Iterating i=3, result=6\n",
            "Iterating i=4, result=24\n",
            "Iterating i=5, result=120\n",
            "Iterative Result: 120\n",
            "\n",
            "===== FACTORIAL CALCULATION FOR 7 =====\n",
            "Entering factorial_recursive(7)\n",
            "Entering factorial_recursive(6)\n",
            "Entering factorial_recursive(5)\n",
            "Entering factorial_recursive(4)\n",
            "Entering factorial_recursive(3)\n",
            "Entering factorial_recursive(2)\n",
            "Entering factorial_recursive(1)\n",
            "Base case reached: factorial(1) = 1\n",
            "Returning: 2 * factorial(1) = 2\n",
            "Returning: 3 * factorial(2) = 6\n",
            "Returning: 4 * factorial(3) = 24\n",
            "Returning: 5 * factorial(4) = 120\n",
            "Returning: 6 * factorial(5) = 720\n",
            "Returning: 7 * factorial(6) = 5040\n",
            "Recursive Result: 5040\n",
            "Tail Recursion Call: factorial_tail_recursive(7, 1)\n",
            "Tail Recursion Call: factorial_tail_recursive(6, 7)\n",
            "Tail Recursion Call: factorial_tail_recursive(5, 42)\n",
            "Tail Recursion Call: factorial_tail_recursive(4, 210)\n",
            "Tail Recursion Call: factorial_tail_recursive(3, 840)\n",
            "Tail Recursion Call: factorial_tail_recursive(2, 2520)\n",
            "Tail Recursion Call: factorial_tail_recursive(1, 5040)\n",
            "Tail Recursive Result: 5040\n",
            "Iterating i=2, result=2\n",
            "Iterating i=3, result=6\n",
            "Iterating i=4, result=24\n",
            "Iterating i=5, result=120\n",
            "Iterating i=6, result=720\n",
            "Iterating i=7, result=5040\n",
            "Iterative Result: 5040\n"
          ]
        }
      ],
      "source": [
        "def validate_input(n):\n",
        "    if not isinstance(n, int) or n < 0:\n",
        "        raise ValueError(\"Input must be a non-negative integer.\")\n",
        "\n",
        "\n",
        "def factorial_recursive(n):\n",
        "    validate_input(n)\n",
        "    print(f\"Entering factorial_recursive({n})\")\n",
        "    if n == 0 or n == 1:\n",
        "        print(f\"Base case reached: factorial({n}) = 1\")\n",
        "        return 1\n",
        "    result = n * factorial_recursive(n - 1)\n",
        "    print(f\"Returning: {n} * factorial({n-1}) = {result}\")\n",
        "    return result\n",
        "\n",
        "\n",
        "def factorial_tail_recursive(n, acc=1):\n",
        "    validate_input(n)\n",
        "    print(f\"Tail Recursion Call: factorial_tail_recursive({n}, {acc})\")\n",
        "    if n == 0 or n == 1:\n",
        "        return acc\n",
        "    return factorial_tail_recursive(n - 1, acc * n)\n",
        "\n",
        "\n",
        "def factorial_iterative(n):\n",
        "    validate_input(n)\n",
        "    result = 1\n",
        "    for i in range(2, n + 1):\n",
        "        result *= i\n",
        "        print(f\"Iterating i={i}, result={result}\")\n",
        "    return result\n",
        "\n",
        "\n",
        "if __name__ == \"__main__\":\n",
        "    test_values = [0, 1, 5, 7]\n",
        "    for val in test_values:\n",
        "        print(f\"\\n===== FACTORIAL CALCULATION FOR {val} =====\")\n",
        "        print(f\"Recursive Result: {factorial_recursive(val)}\")\n",
        "        print(f\"Tail Recursive Result: {factorial_tail_recursive(val)}\")\n",
        "        print(f\"Iterative Result: {factorial_iterative(val)}\")"
      ]
    }
  ]
}
{
  "nbformat": 4,
  "nbformat_minor": 0,
  "metadata": {
    "colab": {
      "provenance": [],
      "include_colab_link": true
    },
    "kernelspec": {
      "name": "python3",
      "display_name": "Python 3"
    },
    "language_info": {
      "name": "python"
    }
  },
  "cells": [
    {
      "cell_type": "markdown",
      "metadata": {
        "id": "view-in-github",
        "colab_type": "text"
      },
      "source": [
        "<a href=\"https://colab.research.google.com/github/udaykiran811/PDS-10-2303A51523-/blob/main/Lab_05.ipynb\" target=\"_parent\"><img src=\"https://colab.research.google.com/assets/colab-badge.svg\" alt=\"Open In Colab\"/></a>"
      ]
    },
    {
      "cell_type": "code",
      "execution_count": null,
      "metadata": {
        "colab": {
          "base_uri": "https://localhost:8080/"
        },
        "id": "HrsXc0dgIoZ7",
        "outputId": "23fd6810-a971-44cb-9b1f-63d239cad635"
      },
      "outputs": [
        {
          "output_type": "stream",
          "name": "stdout",
          "text": [
            "Teachers Data:\n",
            "    teacher_id teacher_name department\n",
            "0           1   Dr. Sharma        CSE\n",
            "1           2  Prof. Gupta        ECE\n",
            "2           3    Dr. Reddy        CSE\n",
            "3           4     Dr. Khan       Math \n",
            "\n",
            "Courses Data:\n",
            "    course_id       course_name  teacher_id\n",
            "0        101   Data Structures           1\n",
            "1        102          Networks           2\n",
            "2        103        Algorithms           1\n",
            "3        104  Digital Circuits           2\n",
            "4        105  Database Systems           3\n",
            "5        106    Linear Algebra           4\n",
            "6        107                AI           1 \n",
            "\n",
            "Inner Join (Courses with Teachers):\n",
            "    course_id       course_name  teacher_id teacher_name department\n",
            "0        101   Data Structures           1   Dr. Sharma        CSE\n",
            "1        102          Networks           2  Prof. Gupta        ECE\n",
            "2        103        Algorithms           1   Dr. Sharma        CSE\n",
            "3        104  Digital Circuits           2  Prof. Gupta        ECE\n",
            "4        105  Database Systems           3    Dr. Reddy        CSE\n",
            "5        106    Linear Algebra           4     Dr. Khan       Math\n",
            "6        107                AI           1   Dr. Sharma        CSE \n",
            "\n",
            "Left Join:\n",
            "    course_id       course_name  teacher_id teacher_name department\n",
            "0        101   Data Structures           1   Dr. Sharma        CSE\n",
            "1        102          Networks           2  Prof. Gupta        ECE\n",
            "2        103        Algorithms           1   Dr. Sharma        CSE\n",
            "3        104  Digital Circuits           2  Prof. Gupta        ECE\n",
            "4        105  Database Systems           3    Dr. Reddy        CSE\n",
            "5        106    Linear Algebra           4     Dr. Khan       Math\n",
            "6        107                AI           1   Dr. Sharma        CSE \n",
            "\n",
            "Courses per Teacher:\n",
            "   teacher_name  course_id\n",
            "0     Dr. Khan          1\n",
            "1    Dr. Reddy          1\n",
            "2   Dr. Sharma          3\n",
            "3  Prof. Gupta          2 \n",
            "\n",
            "Average Courses per Teacher: 1.75 \n",
            "\n",
            "Department-wise Workload:\n",
            "   department  course_id\n",
            "0        CSE          4\n",
            "1        ECE          2\n",
            "2       Math          1 \n",
            "\n",
            "Department with Highest Workload:\n",
            " department    CSE\n",
            "course_id       4\n",
            "Name: 0, dtype: object\n"
          ]
        }
      ],
      "source": [
        "import pandas as pd\n",
        "\n",
        "teachers = pd.DataFrame({\n",
        "    'teacher_id': [1, 2, 3, 4],\n",
        "    'teacher_name': ['Dr. Sharma', 'Prof. Gupta', 'Dr. Reddy', 'Dr. Khan'],\n",
        "    'department': ['CSE', 'ECE', 'CSE', 'Math']\n",
        "})\n",
        "\n",
        "courses = pd.DataFrame({\n",
        "    'course_id': [101, 102, 103, 104, 105, 106, 107],\n",
        "    'course_name': ['Data Structures', 'Networks', 'Algorithms',\n",
        "                    'Digital Circuits', 'Database Systems', 'Linear Algebra', 'AI'],\n",
        "    'teacher_id': [1, 2, 1, 2, 3, 4, 1]\n",
        "})\n",
        "\n",
        "print(\"Teachers Data:\\n\", teachers, \"\\n\")\n",
        "print(\"Courses Data:\\n\", courses, \"\\n\")\n",
        "\n",
        "merged_inner = pd.merge(courses, teachers, on=\"teacher_id\", how=\"inner\")\n",
        "merged_left = pd.merge(courses, teachers, on=\"teacher_id\", how=\"left\")\n",
        "\n",
        "print(\"Inner Join (Courses with Teachers):\\n\", merged_inner, \"\\n\")\n",
        "print(\"Left Join:\\n\", merged_left, \"\\n\")\n",
        "\n",
        "courses_per_teacher = merged_inner.groupby('teacher_name')['course_id'].count().reset_index()\n",
        "avg_courses_per_teacher = courses_per_teacher['course_id'].mean()\n",
        "department_workload = merged_inner.groupby('department')['course_id'].count().reset_index()\n",
        "\n",
        "print(\"Courses per Teacher:\\n\", courses_per_teacher, \"\\n\")\n",
        "print(\"Average Courses per Teacher:\", avg_courses_per_teacher, \"\\n\")\n",
        "print(\"Department-wise Workload:\\n\", department_workload, \"\\n\")\n",
        "\n",
        "best_department = department_workload.loc[department_workload['course_id'].idxmax()]\n",
        "print(\"Department with Highest Workload:\\n\", best_department)\n"
      ]
    }
  ]
}
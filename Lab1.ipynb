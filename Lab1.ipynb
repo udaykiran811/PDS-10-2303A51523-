{
  "nbformat": 4,
  "nbformat_minor": 0,
  "metadata": {
    "colab": {
      "provenance": [],
      "include_colab_link": true
    },
    "kernelspec": {
      "name": "python3",
      "display_name": "Python 3"
    },
    "language_info": {
      "name": "python"
    }
  },
  "cells": [
    {
      "cell_type": "markdown",
      "metadata": {
        "id": "view-in-github",
        "colab_type": "text"
      },
      "source": [
        "<a href=\"https://colab.research.google.com/github/udaykiran811/PDS-10-2303A51523-/blob/main/Lab1.ipynb\" target=\"_parent\"><img src=\"https://colab.research.google.com/assets/colab-badge.svg\" alt=\"Open In Colab\"/></a>"
      ]
    },
    {
      "cell_type": "code",
      "execution_count": null,
      "metadata": {
        "colab": {
          "base_uri": "https://localhost:8080/"
        },
        "id": "C4iF_WloCP6J",
        "outputId": "028c4601-1488-40de-86ee-f0008ec3ba34"
      },
      "outputs": [
        {
          "output_type": "stream",
          "name": "stdout",
          "text": [
            "Enter a number (≤ 10): 2\n",
            "\n",
            "Tracing factorial(2):\n",
            "\n",
            "→ factorial(2) called\n",
            "   → factorial(1) called\n",
            "     Base case reached: factorial(1) = 1\n",
            "← Returning 2 from factorial(2)\n",
            "\n",
            "Final Result: factorial(2) = 2\n"
          ]
        }
      ],
      "source": [
        "def factorial(n, depth=0):\n",
        "    indent = \"   \" * depth\n",
        "    print(f\"{indent}→ factorial({n}) called\")\n",
        "\n",
        "    if n == 0 or n == 1:\n",
        "        print(f\"{indent}  Base case reached: factorial({n}) = 1\")\n",
        "        return 1\n",
        "    else:\n",
        "        result = n * factorial(n - 1, depth + 1)\n",
        "        print(f\"{indent}← Returning {result} from factorial({n})\")\n",
        "        return result\n",
        "\n",
        "\n",
        "try:\n",
        "    num = int(input(\"Enter a number (≤ 10): \"))\n",
        "    if num < 0 or num > 10:\n",
        "        print(\"Please enter a number between 0 and 10\")\n",
        "    else:\n",
        "        print(f\"\\nTracing factorial({num}):\\n\")\n",
        "        answer = factorial(num)\n",
        "        print(f\"\\nFinal Result: factorial({num}) = {answer}\")\n",
        "except ValueError:\n",
        "    print(\"Invalid input! Please enter an integer.\")\n"
      ]
    },
    {
      "cell_type": "code",
      "source": [
        "import time\n",
        "import sys\n",
        "import pandas as pd\n",
        "\n",
        "def factorial_recursive(n):\n",
        "    if n == 0 or n == 1:\n",
        "        return 1\n",
        "    return n * factorial_recursive(n - 1)\n",
        "\n",
        "def factorial_iterative(n):\n",
        "    result = 1\n",
        "    for i in range(2, n + 1):\n",
        "        result *= i\n",
        "    return result\n",
        "\n",
        "def measure_performance(func, n):\n",
        "    start = time.time()\n",
        "    result = func(n)\n",
        "    end = time.time()\n",
        "    exec_time = (end - start) * 1000\n",
        "    memory = sys.getsizeof(result)\n",
        "    return result, exec_time, memory\n",
        "\n",
        "try:\n",
        "    num = int(input(\"Enter a number (≤ 1000 recommended): \"))\n",
        "    if num < 0:\n",
        "        print(\"Please enter a non-negative integer.\")\n",
        "    else:\n",
        "        print(f\"\\nCalculating factorial({num}) using recursion and iteration...\\n\")\n",
        "\n",
        "        rec_result, rec_time, rec_mem = measure_performance(factorial_recursive, num)\n",
        "        iter_result, iter_time, iter_mem = measure_performance(factorial_iterative, num)\n",
        "\n",
        "        print(\"Recursive Result:\", rec_result)\n",
        "        print(\"Iterative Result:\", iter_result)\n",
        "\n",
        "        data = {\n",
        "            \"Approach\": [\"Recursive\", \"Iterative\"],\n",
        "            \"Execution Time (ms)\": [rec_time, iter_time],\n",
        "            \"Memory Usage (bytes)\": [rec_mem, iter_mem],\n",
        "            \"Time Complexity\": [\"O(n)\", \"O(n)\"],\n",
        "            \"Space Complexity\": [\"O(n) (call stack)\", \"O(1)\"]\n",
        "        }\n",
        "        df = pd.DataFrame(data)\n",
        "        print(\"\\nComparison Table:\\n\")\n",
        "        print(df.to_string(index=False))\n",
        "\n",
        "except ValueError:\n",
        "    print(\"Invalid input! Please enter an integer.\")\n"
      ],
      "metadata": {
        "colab": {
          "base_uri": "https://localhost:8080/"
        },
        "id": "el0gDEVvDfDW",
        "outputId": "5f8023fb-0709-4f23-d182-0f7ca9e4ac96"
      },
      "execution_count": null,
      "outputs": [
        {
          "output_type": "stream",
          "name": "stdout",
          "text": [
            "Enter a number (≤ 1000 recommended): 656\n",
            "\n",
            "Calculating factorial(656) using recursion and iteration...\n",
            "\n",
            "Recursive Result: 62999271183970348149140497338094453619778518297733672998198482692146429272169195630138469872475136805167198962830012321457346366216928492024574123827691550054454870615526411914699955483864141122564818176357251692893420991584842254274585544968889749590997342472635606168376013536720813776947014008126668898846693470910300777388582755774261225093739511742348796125693170868093896277848061042510919945141458318015427548095885065766817021942412210038590461892722488262534266942701143721844907837448867310761121437376579673053935139786678150029516347064843204135924959856473461750142870916626057814906942583475286604135575224038774218799763801579026548529309256462681001621465008676389069221441862686125098596410333696289622855294304356236134242657078690704834282551916658617608341803430661726543241370018482883226080820934485120127707708165908148021703842571945596979184200146520853304453145337054830627283247578701984588146987295731417988603267296721396882087129740201554512196833246124537779934297814850132816952760192205490666360660887758100303938211842112195031149114297754955189589803503495051509001505547917924429180553023150296195827080303839681625565371455422943299863289361218626192062062749162829742900858627580535501203277688436359441398012374546631483404911598406711853368172100697260144070580307689714682664125525685921253650664983390208597827249900255103756878435487689759967819237563647918080000000000000000000000000000000000000000000000000000000000000000000000000000000000000000000000000000000000000000000000000000000000000000000000000000000000000000000\n",
            "Iterative Result: 62999271183970348149140497338094453619778518297733672998198482692146429272169195630138469872475136805167198962830012321457346366216928492024574123827691550054454870615526411914699955483864141122564818176357251692893420991584842254274585544968889749590997342472635606168376013536720813776947014008126668898846693470910300777388582755774261225093739511742348796125693170868093896277848061042510919945141458318015427548095885065766817021942412210038590461892722488262534266942701143721844907837448867310761121437376579673053935139786678150029516347064843204135924959856473461750142870916626057814906942583475286604135575224038774218799763801579026548529309256462681001621465008676389069221441862686125098596410333696289622855294304356236134242657078690704834282551916658617608341803430661726543241370018482883226080820934485120127707708165908148021703842571945596979184200146520853304453145337054830627283247578701984588146987295731417988603267296721396882087129740201554512196833246124537779934297814850132816952760192205490666360660887758100303938211842112195031149114297754955189589803503495051509001505547917924429180553023150296195827080303839681625565371455422943299863289361218626192062062749162829742900858627580535501203277688436359441398012374546631483404911598406711853368172100697260144070580307689714682664125525685921253650664983390208597827249900255103756878435487689759967819237563647918080000000000000000000000000000000000000000000000000000000000000000000000000000000000000000000000000000000000000000000000000000000000000000000000000000000000000000000\n",
            "\n",
            "Comparison Table:\n",
            "\n",
            " Approach  Execution Time (ms)  Memory Usage (bytes) Time Complexity  Space Complexity\n",
            "Recursive             0.321150                   720            O(n) O(n) (call stack)\n",
            "Iterative             0.114679                   720            O(n)              O(1)\n"
          ]
        }
      ]
    }
  ]
}
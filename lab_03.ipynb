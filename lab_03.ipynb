{
  "nbformat": 4,
  "nbformat_minor": 0,
  "metadata": {
    "colab": {
      "provenance": [],
      "include_colab_link": true
    },
    "kernelspec": {
      "name": "python3",
      "display_name": "Python 3"
    },
    "language_info": {
      "name": "python"
    }
  },
  "cells": [
    {
      "cell_type": "markdown",
      "metadata": {
        "id": "view-in-github",
        "colab_type": "text"
      },
      "source": [
        "<a href=\"https://colab.research.google.com/github/udaykiran811/PDS-10-2303A51523-/blob/main/lab_03.ipynb\" target=\"_parent\"><img src=\"https://colab.research.google.com/assets/colab-badge.svg\" alt=\"Open In Colab\"/></a>"
      ]
    },
    {
      "cell_type": "code",
      "execution_count": null,
      "metadata": {
        "id": "vp08RgTkwQdW"
      },
      "outputs": [],
      "source": [
        "import numpy as np\n",
        "import matplotlib.pyplot as plt"
      ]
    },
    {
      "cell_type": "code",
      "source": [
        "np_arr1=np.array([[1,2,3],[4,5,6],[7,8,9]]);\n",
        "np_arr2=np.array([[5,9,8],[9,6,3],[7,4,1]]);"
      ],
      "metadata": {
        "id": "cSPWL3Rz093D"
      },
      "execution_count": null,
      "outputs": []
    },
    {
      "cell_type": "code",
      "source": [
        "addition=np_arr1+np_arr2\n",
        "substraction=np_arr1-np_arr2\n",
        "multiplication=np_arr1*np_arr2\n",
        "division=np_arr1/np_arr2\n",
        "power1=np_arr1**np_arr2"
      ],
      "metadata": {
        "id": "Shk25yl41CIy"
      },
      "execution_count": null,
      "outputs": []
    },
    {
      "cell_type": "code",
      "source": [
        "print(addition)\n",
        "print(substraction)\n",
        "print(multiplication)\n",
        "print(division)\n",
        "print(power1)"
      ],
      "metadata": {
        "colab": {
          "base_uri": "https://localhost:8080/"
        },
        "id": "xir-WB2K1CkV",
        "outputId": "cb8bb50b-9ed6-4ed2-b719-412358033cb0"
      },
      "execution_count": null,
      "outputs": [
        {
          "output_type": "stream",
          "name": "stdout",
          "text": [
            "[[ 6 11 11]\n",
            " [13 11  9]\n",
            " [14 12 10]]\n",
            "[[-4 -7 -5]\n",
            " [-5 -1  3]\n",
            " [ 0  4  8]]\n",
            "[[ 5 18 24]\n",
            " [36 30 18]\n",
            " [49 32  9]]\n",
            "[[0.2        0.22222222 0.375     ]\n",
            " [0.44444444 0.83333333 2.        ]\n",
            " [1.         2.         9.        ]]\n",
            "[[     1    512   6561]\n",
            " [262144  15625    216]\n",
            " [823543   4096      9]]\n"
          ]
        }
      ]
    },
    {
      "cell_type": "code",
      "source": [
        "A = np.array([[1, 2],\n",
        "              [3, 4],\n",
        "              [5, 6]])\n",
        "\n",
        "B = np.array([[7, 8, 9],\n",
        "              [10, 11, 12]])\n",
        "\n",
        "print(\"Matrix A (3x2):\\n\", A)\n",
        "print(\"Matrix B (2x3):\\n\", B)\n",
        "\n",
        "C = np.dot(A, B)\n",
        "print(\"Resulting Matrix C (3x3):\\n\", C)\n",
        "\n",
        "fig, axs = plt.subplots(1, 3, figsize=(10, 3))\n",
        "axs[0].imshow(A, cmap='viridis')\n",
        "axs[0].set_title('Matrix A')\n",
        "axs[1].imshow(B, cmap='plasma')\n",
        "axs[1].set_title('Matrix B')\n",
        "axs[2].imshow(C, cmap='cividis')\n",
        "axs[2].set_title('Dot Product (A x B)')\n",
        "plt.tight_layout()\n",
        "plt.show()\n"
      ],
      "metadata": {
        "colab": {
          "base_uri": "https://localhost:8080/",
          "height": 498
        },
        "id": "4RMQVN1C1C7D",
        "outputId": "294f7d45-7ee6-49e3-deef-4ce4cfad3940"
      },
      "execution_count": null,
      "outputs": [
        {
          "output_type": "stream",
          "name": "stdout",
          "text": [
            "Matrix A (3x2):\n",
            " [[1 2]\n",
            " [3 4]\n",
            " [5 6]]\n",
            "Matrix B (2x3):\n",
            " [[ 7  8  9]\n",
            " [10 11 12]]\n",
            "Resulting Matrix C (3x3):\n",
            " [[ 27  30  33]\n",
            " [ 61  68  75]\n",
            " [ 95 106 117]]\n"
          ]
        },
        {
          "output_type": "display_data",
          "data": {
            "text/plain": [
              "<Figure size 1000x300 with 3 Axes>"
            ],
            "image/png": "[encoded data removed]"
          },
          "metadata": {}
        }
      ]
    }
  ]
}
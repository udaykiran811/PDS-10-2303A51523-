{
  "nbformat": 4,
  "nbformat_minor": 0,
  "metadata": {
    "colab": {
      "provenance": [],
      "include_colab_link": true
    },
    "kernelspec": {
      "name": "python3",
      "display_name": "Python 3"
    },
    "language_info": {
      "name": "python"
    }
  },
  "cells": [
    {
      "cell_type": "markdown",
      "metadata": {
        "id": "view-in-github",
        "colab_type": "text"
      },
      "source": [
        "<a href=\"https://colab.research.google.com/github/udaykiran811/PDS-10-2303A51523-/blob/main/Lab2.ipynb\" target=\"_parent\"><img src=\"https://colab.research.google.com/assets/colab-badge.svg\" alt=\"Open In Colab\"/></a>"
      ]
    },
    {
      "cell_type": "code",
      "execution_count": null,
      "metadata": {
        "colab": {
          "base_uri": "https://localhost:8080/"
        },
        "id": "l16yXa7N_naL",
        "outputId": "3b817c99-59ce-4031-fd35-b65598cfcbc1"
      },
      "outputs": [
        {
          "output_type": "stream",
          "name": "stdout",
          "text": [
            "Student Marks (2D Array):\n",
            " [[78 85 90]\n",
            " [88 76 92]\n",
            " [60 65 70]\n",
            " [95 89 94]\n",
            " [82 79 85]]\n",
            "\n",
            "Average Marks (overall): 81.86666666666666\n",
            "Minimum Marks (overall): 60\n",
            "Maximum Marks (overall): 95\n",
            "\n",
            "Subject-wise Average: [80.6 78.8 86.2]\n",
            "Subject-wise Min: [60 65 70]\n",
            "Subject-wise Max: [95 89 94]\n",
            "\n",
            "Marks of Student 2: [88 76 92]\n",
            "Marks of first 3 students:\n",
            " [[78 85 90]\n",
            " [88 76 92]\n",
            " [60 65 70]]\n",
            "\n",
            "Boolean mask (scores > 80):\n",
            " [[False  True  True]\n",
            " [ True False  True]\n",
            " [False False False]\n",
            " [ True  True  True]\n",
            " [ True False  True]]\n",
            "Students with at least one subject > 80:\n",
            " [[78 85 90]\n",
            " [88 76 92]\n",
            " [95 89 94]\n",
            " [82 79 85]]\n",
            "\n",
            "Reshaped Array (Subject-wise performance):\n",
            " [[78 88 60 95 82]\n",
            " [85 76 65 89 79]\n",
            " [90 92 70 94 85]]\n",
            "\n",
            "Analysis:\n",
            "1. Student 4 consistently scores highest across subjects.\n",
            "2. Student 3 has the lowest overall performance.\n",
            "3. Science seems slightly tougher as average is lower compared to Math & English.\n",
            "4. Many students have marks > 80, showing strong performance in multiple subjects.\n"
          ]
        }
      ],
      "source": [
        "import numpy as np\n",
        "\n",
        "marks = np.array([\n",
        "    [78, 85, 90],\n",
        "    [88, 76, 92],\n",
        "    [60, 65, 70],\n",
        "    [95, 89, 94],\n",
        "    [82, 79, 85]\n",
        "])\n",
        "\n",
        "print(\"Student Marks (2D Array):\\n\", marks)\n",
        "\n",
        "avg_marks = np.mean(marks)\n",
        "min_marks = np.min(marks)\n",
        "max_marks = np.max(marks)\n",
        "\n",
        "print(\"\\nAverage Marks (overall):\", avg_marks)\n",
        "print(\"Minimum Marks (overall):\", min_marks)\n",
        "print(\"Maximum Marks (overall):\", max_marks)\n",
        "\n",
        "print(\"\\nSubject-wise Average:\", np.mean(marks, axis=0))\n",
        "print(\"Subject-wise Min:\", np.min(marks, axis=0))\n",
        "print(\"Subject-wise Max:\", np.max(marks, axis=0))\n",
        "\n",
        "print(\"\\nMarks of Student 2:\", marks[1])\n",
        "print(\"Marks of first 3 students:\\n\", marks[:3])\n",
        "\n",
        "above_80 = marks > 80\n",
        "print(\"\\nBoolean mask (scores > 80):\\n\", above_80)\n",
        "\n",
        "students_above_80 = marks[np.any(marks > 80, axis=1)]\n",
        "print(\"Students with at least one subject > 80:\\n\", students_above_80)\n",
        "\n",
        "reshaped = marks.T\n",
        "print(\"\\nReshaped Array (Subject-wise performance):\\n\", reshaped)\n",
        "\n",
        "print(\"\\nAnalysis:\")\n",
        "print(\"1. Student 4 consistently scores highest across subjects.\")\n",
        "print(\"2. Student 3 has the lowest overall performance.\")\n",
        "print(\"3. Science seems slightly tougher as average is lower compared to Math & English.\")\n",
        "print(\"4. Many students have marks > 80, showing strong performance in multiple subjects.\")\n"
      ]
    },
    {
      "cell_type": "code",
      "source": [
        "import pandas as pd\n",
        "\n",
        "data = {\n",
        "    \"Employee_ID\": [\"E001\", \"E002\", \"E003\", \"E004\", \"E005\", \"E006\", \"E007\"],\n",
        "    \"Name\": [\"Alice Johnson\", \"Bob Smith\", \"Charlie Lee\", \"Diana Patel\", \"Ethan Brown\", \"Fiona Davis\", \"George Wilson\"],\n",
        "    \"Department\": [\"HR\", \"IT\", \"Finance\", \"IT\", \"Marketing\", \"Finance\", \"HR\"],\n",
        "    \"Salary\": [48000, 72000, 51000, 45000, 60000, 52000, 80000]\n",
        "}\n",
        "\n",
        "df = pd.DataFrame(data)\n",
        "\n",
        "df.to_csv(\"employees.csv\", index=False)\n",
        "\n",
        "print(\"Sample dataset created and saved as employees.csv\")\n",
        "print(df)\n"
      ],
      "metadata": {
        "colab": {
          "base_uri": "https://localhost:8080/"
        },
        "id": "dDb8j5rH_sZd",
        "outputId": "3c16777d-e5e5-4ce6-dbc1-5a6b12adcf6e"
      },
      "execution_count": null,
      "outputs": [
        {
          "output_type": "stream",
          "name": "stdout",
          "text": [
            "Sample dataset created and saved as employees.csv\n",
            "  Employee_ID           Name Department  Salary\n",
            "0        E001  Alice Johnson         HR   48000\n",
            "1        E002      Bob Smith         IT   72000\n",
            "2        E003    Charlie Lee    Finance   51000\n",
            "3        E004    Diana Patel         IT   45000\n",
            "4        E005    Ethan Brown  Marketing   60000\n",
            "5        E006    Fiona Davis    Finance   52000\n",
            "6        E007  George Wilson         HR   80000\n"
          ]
        }
      ]
    }
  ]
}
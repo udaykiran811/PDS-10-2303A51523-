{
  "nbformat": 4,
  "nbformat_minor": 0,
  "metadata": {
    "colab": {
      "provenance": [],
      "include_colab_link": true
    },
    "kernelspec": {
      "name": "python3",
      "display_name": "Python 3"
    },
    "language_info": {
      "name": "python"
    }
  },
  "cells": [
    {
      "cell_type": "markdown",
      "metadata": {
        "id": "view-in-github",
        "colab_type": "text"
      },
      "source": [
        "<a href=\"https://colab.research.google.com/github/udaykiran811/PDS-10-2303A51523-/blob/main/Lab4.ipynb\" target=\"_parent\"><img src=\"https://colab.research.google.com/assets/colab-badge.svg\" alt=\"Open In Colab\"/></a>"
      ]
    },
    {
      "cell_type": "code",
      "execution_count": null,
      "metadata": {
        "colab": {
          "base_uri": "https://localhost:8080/"
        },
        "id": "SDZ7dLaq2G2n",
        "outputId": "1f80bbcb-3376-4f07-cdea-9a94b827b584"
      },
      "outputs": [
        {
          "output_type": "stream",
          "name": "stdout",
          "text": [
            "Original Data:\n",
            "   id     Name  Science  English  Maths\n",
            "0   1  Bronnie       15       74     51\n",
            "1   2   Lemmie       24       45     42\n",
            "2   3    Danya       14       88     99\n",
            "3   4    Denna       25       45     54\n",
            "4   5  Jocelin       16        2     22\n",
            "\n",
            "Data after filling missing marks with column-wise averages:\n",
            "   id     Name  Science  English  Maths\n",
            "0   1  Bronnie       15       74     51\n",
            "1   2   Lemmie       24       45     42\n",
            "2   3    Danya       14       88     99\n",
            "3   4    Denna       25       45     54\n",
            "4   5  Jocelin       16        2     22\n",
            "\n",
            "High Achievers (scored > 75 in all subjects):\n",
            "Empty DataFrame\n",
            "Columns: [id, Name, Science, English, Maths]\n",
            "Index: []\n"
          ]
        }
      ],
      "source": [
        "import pandas as pd\n",
        "\n",
        "# Read the CSV file\n",
        "df = pd.read_csv(\"student_scores1.csv\")\n",
        "\n",
        "# Display initial data\n",
        "print(\"Original Data:\")\n",
        "print(df)\n",
        "\n",
        "# Fill missing subject marks with column-wise average\n",
        "df_filled = df.copy()\n",
        "df_filled[['Maths', 'Science', 'English']] = df_filled[['Maths', 'Science', 'English']].apply(\n",
        "    lambda col: col.fillna(col.mean())\n",
        ")\n",
        "\n",
        "print(\"\\nData after filling missing marks with column-wise averages:\")\n",
        "print(df_filled)\n",
        "\n",
        "# Filter students who scored more than 75 in all subjects\n",
        "high_achievers = df_filled[\n",
        "    (df_filled['Maths'] > 75) &\n",
        "    (df_filled['Science'] > 75) &\n",
        "    (df_filled['English'] > 75)\n",
        "]\n",
        "\n",
        "print(\"\\nHigh Achievers (scored > 75 in all subjects):\")\n",
        "print(high_achievers)\n",
        "\n",
        "# Save results to CSV (optional)\n",
        "high_achievers.to_csv(\"high_achievers.csv\", index=False)"
      ]
    },
    {
      "cell_type": "code",
      "source": [
        "import pandas as pd\n",
        "\n",
        "# Load dataset from Excel\n",
        "df = pd.read_excel(\"patients.xlsx\")\n",
        "\n",
        "print(\"Original Data:\")\n",
        "print(df)\n",
        "\n",
        "# Replace missing Age values with median\n",
        "df['Age'] = df['Age'].fillna(df['Age'].median())\n",
        "\n",
        "print(\"\\nData after filling missing Ages with median:\")\n",
        "print(df)\n",
        "\n",
        "# Filter female patients aged above 50 diagnosed with Diabetes\n",
        "elderly_female_diabetes = df[\n",
        "    (df['Gender'] == \"Female\") &\n",
        "    (df['Age'] > 50) &\n",
        "    (df['Diagnosis'].str.lower() == \"diabetes\")\n",
        "]\n",
        "\n",
        "print(\"\\nElderly Female Patients with Diabetes:\")\n",
        "print(elderly_female_diabetes)\n",
        "\n",
        "# Save filtered results (optional)\n",
        "elderly_female_diabetes.to_excel(\"elderly_female_diabetes.xlsx\", index=False)\n"
      ],
      "metadata": {
        "colab": {
          "base_uri": "https://localhost:8080/"
        },
        "id": "QQB9ZDmY9FCa",
        "outputId": "720b322d-c1cc-478a-dc13-cb2ff406bebb"
      },
      "execution_count": null,
      "outputs": [
        {
          "output_type": "stream",
          "name": "stdout",
          "text": [
            "Original Data:\n",
            "  Patient_ID            Name   Age  Gender     Diagnosis Admission_Date\n",
            "0       P001      Anna Smith  65.0  Female      Diabetes     2025-01-24\n",
            "1       P002        John Doe  55.0    Male  Hypertension     2025-01-25\n",
            "2       P003   Linda Johnson   NaN  Female      Diabetes     2025-02-14\n",
            "3       P004   Michael Brown  45.0    Male        Asthma     2025-02-18\n",
            "4       P005     Susan Davis  72.0  Female      Diabetes     2025-02-25\n",
            "5       P006   Robert Wilson  80.0    Male      Diabetes     2025-02-28\n",
            "6       P007    Karen Miller  60.0  Female     Arthritis            NaT\n",
            "7       P008    Nancy Taylor   NaN  Female      Diabetes     2025-03-01\n",
            "8       P009  James Anderson  50.0    Male      Diabetes     2025-03-02\n",
            "9       P010     Mary Thomas  68.0  Female      Diabetes            NaT\n",
            "\n",
            "Data after filling missing Ages with median:\n",
            "  Patient_ID            Name   Age  Gender     Diagnosis Admission_Date\n",
            "0       P001      Anna Smith  65.0  Female      Diabetes     2025-01-24\n",
            "1       P002        John Doe  55.0    Male  Hypertension     2025-01-25\n",
            "2       P003   Linda Johnson  62.5  Female      Diabetes     2025-02-14\n",
            "3       P004   Michael Brown  45.0    Male        Asthma     2025-02-18\n",
            "4       P005     Susan Davis  72.0  Female      Diabetes     2025-02-25\n",
            "5       P006   Robert Wilson  80.0    Male      Diabetes     2025-02-28\n",
            "6       P007    Karen Miller  60.0  Female     Arthritis            NaT\n",
            "7       P008    Nancy Taylor  62.5  Female      Diabetes     2025-03-01\n",
            "8       P009  James Anderson  50.0    Male      Diabetes     2025-03-02\n",
            "9       P010     Mary Thomas  68.0  Female      Diabetes            NaT\n",
            "\n",
            "Elderly Female Patients with Diabetes:\n",
            "  Patient_ID           Name   Age  Gender Diagnosis Admission_Date\n",
            "0       P001     Anna Smith  65.0  Female  Diabetes     2025-01-24\n",
            "2       P003  Linda Johnson  62.5  Female  Diabetes     2025-02-14\n",
            "4       P005    Susan Davis  72.0  Female  Diabetes     2025-02-25\n",
            "7       P008   Nancy Taylor  62.5  Female  Diabetes     2025-03-01\n",
            "9       P010    Mary Thomas  68.0  Female  Diabetes            NaT\n"
          ]
        }
      ]
    }
  ]
}